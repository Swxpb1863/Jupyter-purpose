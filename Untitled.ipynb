{
 "cells": [
  {
   "cell_type": "markdown",
   "id": "e07176b0-952b-46d2-a1c4-11ae27d359cc",
   "metadata": {},
   "source": [
    "# My Jupyter Notebook on IBM Watson Studio"
   ]
  },
  {
   "cell_type": "markdown",
   "id": "2500714b-aca0-4e0a-b90b-54b805a9f9af",
   "metadata": {},
   "source": [
    "__Swarupa Balaji__\n",
    "<br> Student"
   ]
  },
  {
   "cell_type": "markdown",
   "id": "d01ef480-b7b0-4006-9380-9866c2cfadb3",
   "metadata": {},
   "source": [
    "_I am interested in data science as it works with data and statistics. One thing that intrigues me in Data Science is how we are able to come with so many conclusions just on the basis of vast raw data._"
   ]
  },
  {
   "cell_type": "markdown",
   "id": "9499b344-bdb4-4237-8426-7332384242fd",
   "metadata": {},
   "source": [
    "### My code allows us to add or subtract two numbers"
   ]
  },
  {
   "cell_type": "code",
   "execution_count": 3,
   "id": "1d955f39-ee12-4e75-85fd-7b469e6739f3",
   "metadata": {},
   "outputs": [
    {
     "name": "stdin",
     "output_type": "stream",
     "text": [
      "Enter a:  10\n",
      "Enter b:  5\n"
     ]
    },
    {
     "name": "stdout",
     "output_type": "stream",
     "text": [
      "The sum is:  15\n",
      "The difference is:  5\n"
     ]
    }
   ],
   "source": [
    "a = int(input(\"Enter a: \"))\n",
    "b = int(input(\"Enter b: \"))\n",
    "add = a + b\n",
    "sub = a - b\n",
    "print(\"The sum is: \",add)\n",
    "print(\"The difference is: \",sub)"
   ]
  },
  {
   "cell_type": "markdown",
   "id": "7bc89811-2772-4d2c-9437-2db98042347e",
   "metadata": {},
   "source": [
    "| Number of vertices | Shape | Area |\n",
    "| --- | --- | --- |\n",
    "| 4 | Square | L * B |\n",
    "| 3 | Triangle | 0.5 * B * H|\n",
    "\n",
    " - A Circle does not contain any vertices.\n",
    " - A pentagon has five sides.\n",
    " 1. A hexagon has six sides.\n",
    " 2. A heptagon has seven sides."
   ]
  },
  {
   "cell_type": "markdown",
   "id": "9e972ed4-76f4-4129-93f3-f6c2c5d86039",
   "metadata": {},
   "source": []
  },
  {
   "cell_type": "code",
   "execution_count": null,
   "id": "6fe0f6fa-39a2-4d0a-888a-211fd862beb4",
   "metadata": {},
   "outputs": [],
   "source": []
  }
 ],
 "metadata": {
  "kernelspec": {
   "display_name": "Python",
   "language": "python",
   "name": "conda-env-python-py"
  },
  "language_info": {
   "codemirror_mode": {
    "name": "ipython",
    "version": 3
   },
   "file_extension": ".py",
   "mimetype": "text/x-python",
   "name": "python",
   "nbconvert_exporter": "python",
   "pygments_lexer": "ipython3",
   "version": "3.7.12"
  }
 },
 "nbformat": 4,
 "nbformat_minor": 5
}
